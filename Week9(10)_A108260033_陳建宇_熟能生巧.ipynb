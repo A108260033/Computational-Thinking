{
  "nbformat": 4,
  "nbformat_minor": 0,
  "metadata": {
    "colab": {
      "name": "Week9(10)-A108260033-陳建宇-熟能生巧.ipynb",
      "provenance": [],
      "collapsed_sections": [],
      "include_colab_link": true
    },
    "kernelspec": {
      "name": "python3",
      "display_name": "Python 3"
    }
  },
  "cells": [
    {
      "cell_type": "markdown",
      "metadata": {
        "id": "view-in-github",
        "colab_type": "text"
      },
      "source": [
        "<a href=\"https://colab.research.google.com/github/CYya900117/Computational-Thinking/blob/master/Week9(10)_A108260033_%E9%99%B3%E5%BB%BA%E5%AE%87_%E7%86%9F%E8%83%BD%E7%94%9F%E5%B7%A7.ipynb\" target=\"_parent\"><img src=\"https://colab.research.google.com/assets/colab-badge.svg\" alt=\"Open In Colab\"/></a>"
      ]
    },
    {
      "cell_type": "code",
      "metadata": {
        "id": "xhPPgRrBU1Pt",
        "colab_type": "code",
        "colab": {
          "base_uri": "https://localhost:8080/",
          "height": 102
        },
        "outputId": "d5ff0b1c-0cd6-4df8-d3f5-292ccaca976d"
      },
      "source": [
        "# 解題1: 輸入遊戲情境相關資訊\n",
        "\n",
        "print(\"You are on a deserted island in a 2D world.\")\n",
        "print(\"Try to survive until rescue arrives!\")\n",
        "print(\"Available commands are in CAPITAL letters.\")\n",
        "print(\"Any other command exits the program\")\n",
        "\n",
        "print(\"First LOOK around...\") #若要玩遊戲，就四⾯看看，打LOOK"
      ],
      "execution_count": 1,
      "outputs": [
        {
          "output_type": "stream",
          "text": [
            "You are on a deserted island in a 2D world.\n",
            "Try to survive until rescue arrives!\n",
            "Available commands are in CAPITAL letters.\n",
            "Any other command exits the program\n",
            "First LOOK around...\n"
          ],
          "name": "stdout"
        }
      ]
    },
    {
      "cell_type": "code",
      "metadata": {
        "id": "Nx5Jgxt4XlhF",
        "colab_type": "code",
        "colab": {
          "base_uri": "https://localhost:8080/",
          "height": 306
        },
        "outputId": "124cd6d3-14d8-43a6-befe-43faf35691d4"
      },
      "source": [
        "#解題2: 先看看周圍，只有兩個指令的冒險旅程\n",
        "#輸入指令指派給變數do\n",
        "do = input(\":: \")\n",
        "#若輸入LOOK後提⽰後續指令\n",
        "if do == \"LOOK\":#描述情境並決定往哪爬\n",
        "  print(\"You are stuck in a sand ditch.\") #被困沙溝\n",
        "  print(\"Crawl out LEFT or RIGHT.\") #選擇向左或向右，打LEFT/RIGHT\n",
        "\n",
        "  #輸入分⽀指令I-LEFT/RIGHT\n",
        "  do = input(\":: \")\n",
        "  if do == \"LEFT\":#輸入LEFT指令的分⽀，有機會看到船並獲救\n",
        "    print(\"You see a STARFISH and a CRAB on the sand.\") #海星與螃蟹 STARFISH/CRAB\n",
        "    print(\"And you're hungry! Which do you eat?\")#要吃哪⼀個\n",
        "\n",
        "    #輸入指令指派給變數do\n",
        "    do = input(\":: \") #要吃那個\n",
        "    if do == \"STARFISH\":#吃海星\n",
        "      print(\"Oh no! You immediately don't feel well.\")\n",
        "      print(\"You do not survive :(\")\n",
        "    elif do == \"CRAB\":#吃螃蟹\n",
        "        print(\"Raw crab should be fine, right? YES or NO.\") #吃⽣螃蟹好嗎 YES/NO\n",
        "\n",
        "        #輸入指令指派給變數do\n",
        "        do = input(\":: \") #要吃⽣螃蟹YES\n",
        "        if do == \"YES\":\n",
        "          print(\"Ok, You eat it raw. Fingers crossed.\")#好運氣\n",
        "          print(\"Food in your belly helps you see a TREE.\") #看到樹TREE\n",
        "\n",
        "          #輸入指令指派給變數do\n",
        "          do = input(\":: \") #看到⼀棵樹\n",
        "          if do == \"TREE\":\n",
        "            print(\"It's a coconut tree! And you're thirsty!\") #椰⼦樹\n",
        "            print(\"Do you drink the coconut water? YES or NO.\")#喝YES/NO\n",
        "\n",
        "            #輸入指令指派給變數do\n",
        "            do = input(\":: \")# 喝椰⼦⽔嗎？\n",
        "            if do == \"YES\":\n",
        "              print(\"Oh boy. Coconut water and raw crab don't mix.\")\n",
        "              print(\"You do not survive :(\") #死掉\n",
        "            elif do == \"NO\":\n",
        "                print(\"Good choice.\")\n",
        "                print(\"Look! It's a rescue plane! You made it! \\o/\") #最後看到船了\n",
        "\n",
        "          elif do == \"NO\":\n",
        "            print(\"Well, there's nothing else left to eat.\")\n",
        "            print(\"You do not survive :(\") #會死掉\n",
        "\n",
        "    elif do == \"RIGHT\":#輸入RIGHT指令的分⽀，最後會死掉\n",
        "      print(\"No can do. That side is very slippery.\") #處處濕滑\n",
        "      print(\"You fall very far into some weird cavern.\") #跌入洞穴\n",
        "      print(\"You do not survive :(\") #死掉\n",
        "else:#輸入提⽰外的指令，提醒重新輸入\n",
        "  print(\"You can only do actions shown in capital letters.\") #指令只能⽤⼤寫\n",
        "  print(\"Try again!\") #再試⼀次"
      ],
      "execution_count": 25,
      "outputs": [
        {
          "output_type": "stream",
          "text": [
            ":: LOOK\n",
            "You are stuck in a sand ditch.\n",
            "Crawl out LEFT or RIGHT.\n",
            ":: LEFT\n",
            "You see a STARFISH and a CRAB on the sand.\n",
            "And you're hungry! Which do you eat?\n",
            ":: CRAB\n",
            "Raw crab should be fine, right? YES or NO.\n",
            ":: YES\n",
            "Ok, You eat it raw. Fingers crossed.\n",
            "Food in your belly helps you see a TREE.\n",
            ":: TREE\n",
            "It's a coconut tree! And you're thirsty!\n",
            "Do you drink the coconut water? YES or NO.\n",
            ":: YES\n",
            "Oh boy. Coconut water and raw crab don't mix.\n",
            "You do not survive :(\n"
          ],
          "name": "stdout"
        }
      ]
    },
    {
      "cell_type": "code",
      "metadata": {
        "id": "owj0TV1weJBJ",
        "colab_type": "code",
        "colab": {
          "base_uri": "https://localhost:8080/",
          "height": 68
        },
        "outputId": "7fd3c1d7-beb6-4caf-d65e-b6334a88b60d"
      },
      "source": [
        "# ⽬標: 設計和電腦對戰的遊戲\n",
        "## 我隨⾃⼰的意思出拳，電腦則是隨機出拳\n",
        "\n",
        "import random\n",
        "\n",
        "my = int(input(\"請出拳 [0] 剪⼑ [1] ⽯頭 [2] 布\"))\n",
        "print(\"我出拳為\", my)\n",
        "\n",
        "computer = random.randint(0, 2)\n",
        "print(\"電腦出拳為\", computer)"
      ],
      "execution_count": 27,
      "outputs": [
        {
          "output_type": "stream",
          "text": [
            "請出拳 [0] 剪⼑ [1] ⽯頭 [2] 布1\n",
            "我出拳為 1\n",
            "電腦出拳為 1\n"
          ],
          "name": "stdout"
        }
      ]
    },
    {
      "cell_type": "code",
      "metadata": {
        "id": "qnCgVZmYhYFL",
        "colab_type": "code",
        "colab": {
          "base_uri": "https://localhost:8080/",
          "height": 34
        },
        "outputId": "75e3b7f0-3497-42a0-88e7-644c4d6b8c75"
      },
      "source": [
        "if my == 0:\n",
        "  if computer == 0:\n",
        "    print('平⼿')\n",
        "  elif computer == 1:\n",
        "    print('電腦獲勝')\n",
        "  else:\n",
        "    print('玩家獲勝')\n",
        "elif my == 1:\n",
        "  if computer == 0:\n",
        "    print('玩家獲勝')\n",
        "  elif computer == 1:\n",
        "    print('平⼿')\n",
        "  else:\n",
        "    print('電腦獲勝')\n",
        "else:\n",
        "  if computer == 1:\n",
        "    print('電腦獲勝')\n",
        "  elif computer == 2:\n",
        "    print('玩家獲勝')\n",
        "  else:\n",
        "    print('平⼿')"
      ],
      "execution_count": 31,
      "outputs": [
        {
          "output_type": "stream",
          "text": [
            "平⼿\n"
          ],
          "name": "stdout"
        }
      ]
    },
    {
      "cell_type": "code",
      "metadata": {
        "id": "u1j4hM5giP3R",
        "colab_type": "code",
        "colab": {
          "base_uri": "https://localhost:8080/",
          "height": 68
        },
        "outputId": "9717b64e-0451-48b2-9217-7a6cee639a28"
      },
      "source": [
        "# 我隨⾃⼰的意思出拳，電腦則是隨機出拳\n",
        "import random\n",
        "\n",
        "my_choice = int(input(\"請出拳 [0] 剪⼑ [1] ⽯頭 [2] 布\"))\n",
        "print(\"我出拳為\", my_choice)\n",
        "\n",
        "com_choice = random.randint(0, 2)\n",
        "print(\"電腦出拳為\", com_choice)"
      ],
      "execution_count": 32,
      "outputs": [
        {
          "output_type": "stream",
          "text": [
            "請出拳 [0] 剪⼑ [1] ⽯頭 [2] 布1\n",
            "我出拳為 1\n",
            "電腦出拳為 2\n"
          ],
          "name": "stdout"
        }
      ]
    },
    {
      "cell_type": "code",
      "metadata": {
        "id": "pzKIe_sBiW1l",
        "colab_type": "code",
        "colab": {
          "base_uri": "https://localhost:8080/",
          "height": 34
        },
        "outputId": "b769a8be-03d1-4cb9-e5ef-c236fa9093c8"
      },
      "source": [
        "if my_choice == (com_choice + 1) % 3:\n",
        "  print(\"我贏了\")\n",
        "elif my_choice == com_choice:\n",
        "  print(\"平⼿\")\n",
        "else:\n",
        "  print(\"我輸了\")"
      ],
      "execution_count": 33,
      "outputs": [
        {
          "output_type": "stream",
          "text": [
            "我輸了\n"
          ],
          "name": "stdout"
        }
      ]
    },
    {
      "cell_type": "code",
      "metadata": {
        "id": "TVszaYDXiaDW",
        "colab_type": "code",
        "colab": {
          "base_uri": "https://localhost:8080/",
          "height": 68
        },
        "outputId": "f845d2ee-94af-438d-deb8-abc028729a44"
      },
      "source": [
        "import random\n",
        "\n",
        "my_choice = int(input(\"請出拳 [0] 蟲 [1] 雞 [2] 老虎 [3] 棒⼦\"))\n",
        "print(\"你出的拳:\", my_choice)\n",
        "\n",
        "com_choice = random.randint(0, 3)\n",
        "print(\"電腦出拳為\", com_choice)"
      ],
      "execution_count": 34,
      "outputs": [
        {
          "output_type": "stream",
          "text": [
            "請出拳 [0] 蟲 [1] 雞 [2] 老虎 [3] 棒⼦1\n",
            "你出的拳: 1\n",
            "電腦出拳為 2\n"
          ],
          "name": "stdout"
        }
      ]
    },
    {
      "cell_type": "code",
      "metadata": {
        "id": "AXzZ4cXNihHQ",
        "colab_type": "code",
        "colab": {
          "base_uri": "https://localhost:8080/",
          "height": 34
        },
        "outputId": "680feea2-779c-44bb-b732-7962a244de7c"
      },
      "source": [
        "# 後⾯勝前⾯，其他平⼿\n",
        "\n",
        "if my_choice == (com_choice + 1) % 4:\n",
        "  print(\"我贏了\")\n",
        "elif com_choice == (my_choice + 1) % 4:\n",
        "  print(\"電腦贏了\")\n",
        "else:\n",
        "  print(\"平⼿\")"
      ],
      "execution_count": 35,
      "outputs": [
        {
          "output_type": "stream",
          "text": [
            "電腦贏了\n"
          ],
          "name": "stdout"
        }
      ]
    },
    {
      "cell_type": "code",
      "metadata": {
        "id": "rOQDmxjXjbfF",
        "colab_type": "code",
        "colab": {
          "base_uri": "https://localhost:8080/",
          "height": 51
        },
        "outputId": "03318b73-c22d-4646-8ea3-5d8510b05b92"
      },
      "source": [
        "#1.近視判斷\n",
        "視力測量值 =float(input(\"請輸入眼睛度數？\"))\n",
        "if (視力測量值<0.9):\n",
        "  print(\"近視\")\n",
        "else:\n",
        "  print(\"視力正常\")"
      ],
      "execution_count": 58,
      "outputs": [
        {
          "output_type": "stream",
          "text": [
            "請輸入眼睛度數？0.8\n",
            "近視\n"
          ],
          "name": "stdout"
        }
      ]
    },
    {
      "cell_type": "code",
      "metadata": {
        "id": "5EzQzg5LoC7_",
        "colab_type": "code",
        "colab": {
          "base_uri": "https://localhost:8080/",
          "height": 51
        },
        "outputId": "851e2697-799e-475b-f441-42d91de3d471"
      },
      "source": [
        "#4.閏年判斷\n",
        "year = int(input(\"請輸入年份?\"))\n",
        "if year % 4==0 :\n",
        "  if year%400== 0:\n",
        "    print(year,\"是閏年\")\n",
        "  elif year %100==0:\n",
        "    print(year,\"不是閏年\")\n",
        "  else:\n",
        "    print(year,\"是閏年\")\n",
        "else:\n",
        "  print(year,\"不是閏年\")"
      ],
      "execution_count": 103,
      "outputs": [
        {
          "output_type": "stream",
          "text": [
            "請輸入年份?2012\n",
            "2012 是閏年\n"
          ],
          "name": "stdout"
        }
      ]
    }
  ]
}