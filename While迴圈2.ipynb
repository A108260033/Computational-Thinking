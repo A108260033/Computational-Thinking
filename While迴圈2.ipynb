{
  "nbformat": 4,
  "nbformat_minor": 0,
  "metadata": {
    "colab": {
      "name": "While迴圈2.ipynb",
      "provenance": [],
      "collapsed_sections": [],
      "include_colab_link": true
    },
    "kernelspec": {
      "name": "python3",
      "display_name": "Python 3"
    }
  },
  "cells": [
    {
      "cell_type": "markdown",
      "metadata": {
        "id": "view-in-github",
        "colab_type": "text"
      },
      "source": [
        "<a href=\"https://colab.research.google.com/github/CYya900117/Computational-Thinking/blob/master/While%E8%BF%B4%E5%9C%882.ipynb\" target=\"_parent\"><img src=\"https://colab.research.google.com/assets/colab-badge.svg\" alt=\"Open In Colab\"/></a>"
      ]
    },
    {
      "cell_type": "markdown",
      "metadata": {
        "id": "Z8Q9wTYwrhSh",
        "colab_type": "text"
      },
      "source": [
        "老師的螢幕"
      ]
    },
    {
      "cell_type": "markdown",
      "metadata": {
        "id": "ChmcwCoBtu6L",
        "colab_type": "text"
      },
      "source": [
        "while True:\n",
        "\n",
        "條件數值運算式\n",
        "\n",
        "if 條件:\n",
        "\n",
        "要被重複執行的指令 ...\n",
        "\n",
        "else:\n",
        "\n",
        "收尾指令\n",
        "\n",
        "跳出迴圈(break)"
      ]
    },
    {
      "cell_type": "code",
      "metadata": {
        "id": "3mZpb4DwrnU8",
        "colab_type": "code",
        "colab": {
          "base_uri": "https://localhost:8080/",
          "height": 102
        },
        "outputId": "47ad7868-7cef-4bf1-c73a-25f8e8abfac6"
      },
      "source": [
        "i = 0\n",
        "while True: #無窮迴圈 while true\n",
        "  print(i)\n",
        "  if i==4:\n",
        "    break #break跳出迴圈\n",
        "  i = i + 1"
      ],
      "execution_count": 12,
      "outputs": [
        {
          "output_type": "stream",
          "text": [
            "0\n",
            "1\n",
            "2\n",
            "3\n",
            "4\n"
          ],
          "name": "stdout"
        }
      ]
    },
    {
      "cell_type": "markdown",
      "metadata": {
        "id": "sAd9A-fJt0sv",
        "colab_type": "text"
      },
      "source": [
        "#"
      ]
    },
    {
      "cell_type": "code",
      "metadata": {
        "id": "ZcuZsafAt1c-",
        "colab_type": "code",
        "colab": {
          "base_uri": "https://localhost:8080/",
          "height": 68
        },
        "outputId": "d69e2f33-4096-4eee-8f95-b2fd79e51503"
      },
      "source": [
        "#2-10登入系統\n",
        "while True:\n",
        "  acc = input('請輸入帳號?')\n",
        "  pwd = input('請輸入密碼?')\n",
        "  if (acc == 'abc' and pwd == '123'):\n",
        "    print('帳號與密碼正確')\n",
        "    break\n",
        "  else:\n",
        "    print('登入失敗')"
      ],
      "execution_count": 14,
      "outputs": [
        {
          "output_type": "stream",
          "text": [
            "請輸入帳號?abc\n",
            "請輸入密碼?123\n",
            "帳號與密碼正確\n"
          ],
          "name": "stdout"
        }
      ]
    },
    {
      "cell_type": "markdown",
      "metadata": {
        "id": "ZEb93BgqvafY",
        "colab_type": "text"
      },
      "source": [
        "#"
      ]
    },
    {
      "cell_type": "code",
      "metadata": {
        "id": "f4f1JWFSvbmg",
        "colab_type": "code",
        "colab": {
          "base_uri": "https://localhost:8080/",
          "height": 85
        },
        "outputId": "6596ee4b-9d18-4996-cb02-d0f843d14444"
      },
      "source": [
        "#2-10隨堂練習:密碼重置遊戲\n",
        "password = 'a108260033'\n",
        "times = 0\n",
        "\n",
        "while times <= 3:\n",
        "  answer = input(\"Enter Your Password:\")    #另外用一個變數名子\n",
        "  if answer == password:                    #不要用a123456，因為密碼可以改\n",
        "    print(\"登入成功\")\n",
        "    break                                   #出迴圈\n",
        "  else:\n",
        "    times = times + 1\n",
        "    chance = 3 - times\n",
        "    print(\"密碼錯誤!還有\",chance,\"次機會\")"
      ],
      "execution_count": 15,
      "outputs": [
        {
          "output_type": "stream",
          "text": [
            "Enter Your Password:a1058260033\n",
            "密碼錯誤!還有 2 次機會\n",
            "Enter Your Password:a108260033\n",
            "登入成功\n"
          ],
          "name": "stdout"
        }
      ]
    },
    {
      "cell_type": "markdown",
      "metadata": {
        "id": "rS8hGrx5wz1Z",
        "colab_type": "text"
      },
      "source": [
        "#"
      ]
    },
    {
      "cell_type": "code",
      "metadata": {
        "id": "6csBtMELw0kG",
        "colab_type": "code",
        "colab": {
          "base_uri": "https://localhost:8080/",
          "height": 119
        },
        "outputId": "d5654233-619c-40f5-9014-91676cc59aa7"
      },
      "source": [
        "#2-10隨堂練習:密碼重置遊戲改編\n",
        "acc = 'a108260033'\n",
        "password = 'a108260034'\n",
        "times = 0\n",
        "\n",
        "while times <= 3:\n",
        "  accasr = input(\"Enter Your Account:\")\n",
        "  answer = input(\"Enter Your Password:\")\n",
        "  if answer == password and accasr == acc:\n",
        "    print(\"登入成功\")\n",
        "    break\n",
        "  else:\n",
        "    times = times + 1\n",
        "    chance = 3 - times\n",
        "    print(\"帳號密碼錯誤!還有\",chance,\"次機會\")"
      ],
      "execution_count": 19,
      "outputs": [
        {
          "output_type": "stream",
          "text": [
            "Enter Your Account:a108260032\n",
            "Enter Your Password:a108260034\n",
            "帳號密碼錯誤!還有 2 次機會\n",
            "Enter Your Account:a108260033\n",
            "Enter Your Password:a108260034\n",
            "登入成功\n"
          ],
          "name": "stdout"
        }
      ]
    },
    {
      "cell_type": "markdown",
      "metadata": {
        "id": "b3AOxsqj15YR",
        "colab_type": "text"
      },
      "source": [
        " #range函數"
      ]
    },
    {
      "cell_type": "code",
      "metadata": {
        "id": "SD7WqOMd2Awa",
        "colab_type": "code",
        "colab": {
          "base_uri": "https://localhost:8080/",
          "height": 34
        },
        "outputId": "d7439362-a70a-4105-e407-d68158f1d45e"
      },
      "source": [
        "#range為python內建函數，是清單產生器listgenerator\n",
        "range(5)#[0,1,2,3,4]\n",
        "\n",
        "range(3)#[0,1,2]\n",
        "\n",
        "range(2,5)#[2,3,4]\n",
        "range(8,10)#[8,9]\n",
        "\n",
        "range(2,10,3)#[2,5,8]\n",
        "range(3,8,2)#[3,5,7]\n",
        "range(10,3,-2)#[10,8,6,4]\n",
        "\n",
        "#range通常的起始值是0, 階梯值是1,結尾不包括結束值、是到結束值的前一個。"
      ],
      "execution_count": 20,
      "outputs": [
        {
          "output_type": "execute_result",
          "data": {
            "text/plain": [
              "range(10, 3, -2)"
            ]
          },
          "metadata": {
            "tags": []
          },
          "execution_count": 20
        }
      ]
    },
    {
      "cell_type": "markdown",
      "metadata": {
        "id": "BJko1un-4t6E",
        "colab_type": "text"
      },
      "source": [
        "#"
      ]
    },
    {
      "cell_type": "code",
      "metadata": {
        "id": "qSKs0mTl4uuj",
        "colab_type": "code",
        "colab": {
          "base_uri": "https://localhost:8080/",
          "height": 1000
        },
        "outputId": "515673d3-5de9-4d33-fa19-07ab7a4a1e3d"
      },
      "source": [
        "#range通常和for迴圈搭配, for i in range\n",
        "\n",
        "for i in range(5):\n",
        "  print(i)\n",
        "\n",
        "for i in range(3):\n",
        "  print(i)\n",
        "\n",
        "import random \n",
        "for i in range(10):\n",
        "  r = random.randint(1,100)\n",
        "  print(r)\n",
        "\n",
        "for i in range(100):\n",
        "  r = random.randint(1,1000)\n",
        "  print(\"第\", i, \"個隨機變數的值是\", r)\n",
        "\n",
        "t = 0\n",
        "for i in range(100):\n",
        "  t += 50\n",
        "  print(\"第\", i, \"個數是\", t )\n",
        "\n"
      ],
      "execution_count": 27,
      "outputs": [
        {
          "output_type": "stream",
          "text": [
            "0\n",
            "1\n",
            "2\n",
            "3\n",
            "4\n",
            "0\n",
            "1\n",
            "2\n",
            "94\n",
            "58\n",
            "69\n",
            "73\n",
            "41\n",
            "49\n",
            "26\n",
            "97\n",
            "27\n",
            "38\n",
            "第 0 個隨機變數的值是 414\n",
            "第 1 個隨機變數的值是 120\n",
            "第 2 個隨機變數的值是 420\n",
            "第 3 個隨機變數的值是 868\n",
            "第 4 個隨機變數的值是 352\n",
            "第 5 個隨機變數的值是 697\n",
            "第 6 個隨機變數的值是 278\n",
            "第 7 個隨機變數的值是 488\n",
            "第 8 個隨機變數的值是 616\n",
            "第 9 個隨機變數的值是 74\n",
            "第 10 個隨機變數的值是 255\n",
            "第 11 個隨機變數的值是 438\n",
            "第 12 個隨機變數的值是 898\n",
            "第 13 個隨機變數的值是 1000\n",
            "第 14 個隨機變數的值是 186\n",
            "第 15 個隨機變數的值是 976\n",
            "第 16 個隨機變數的值是 992\n",
            "第 17 個隨機變數的值是 596\n",
            "第 18 個隨機變數的值是 718\n",
            "第 19 個隨機變數的值是 99\n",
            "第 20 個隨機變數的值是 116\n",
            "第 21 個隨機變數的值是 184\n",
            "第 22 個隨機變數的值是 82\n",
            "第 23 個隨機變數的值是 1000\n",
            "第 24 個隨機變數的值是 134\n",
            "第 25 個隨機變數的值是 563\n",
            "第 26 個隨機變數的值是 753\n",
            "第 27 個隨機變數的值是 55\n",
            "第 28 個隨機變數的值是 588\n",
            "第 29 個隨機變數的值是 695\n",
            "第 30 個隨機變數的值是 437\n",
            "第 31 個隨機變數的值是 904\n",
            "第 32 個隨機變數的值是 204\n",
            "第 33 個隨機變數的值是 174\n",
            "第 34 個隨機變數的值是 408\n",
            "第 35 個隨機變數的值是 52\n",
            "第 36 個隨機變數的值是 487\n",
            "第 37 個隨機變數的值是 266\n",
            "第 38 個隨機變數的值是 427\n",
            "第 39 個隨機變數的值是 929\n",
            "第 40 個隨機變數的值是 438\n",
            "第 41 個隨機變數的值是 284\n",
            "第 42 個隨機變數的值是 426\n",
            "第 43 個隨機變數的值是 92\n",
            "第 44 個隨機變數的值是 724\n",
            "第 45 個隨機變數的值是 89\n",
            "第 46 個隨機變數的值是 647\n",
            "第 47 個隨機變數的值是 703\n",
            "第 48 個隨機變數的值是 850\n",
            "第 49 個隨機變數的值是 323\n",
            "第 50 個隨機變數的值是 345\n",
            "第 51 個隨機變數的值是 297\n",
            "第 52 個隨機變數的值是 3\n",
            "第 53 個隨機變數的值是 684\n",
            "第 54 個隨機變數的值是 517\n",
            "第 55 個隨機變數的值是 284\n",
            "第 56 個隨機變數的值是 88\n",
            "第 57 個隨機變數的值是 986\n",
            "第 58 個隨機變數的值是 765\n",
            "第 59 個隨機變數的值是 83\n",
            "第 60 個隨機變數的值是 848\n",
            "第 61 個隨機變數的值是 691\n",
            "第 62 個隨機變數的值是 193\n",
            "第 63 個隨機變數的值是 127\n",
            "第 64 個隨機變數的值是 315\n",
            "第 65 個隨機變數的值是 919\n",
            "第 66 個隨機變數的值是 413\n",
            "第 67 個隨機變數的值是 626\n",
            "第 68 個隨機變數的值是 509\n",
            "第 69 個隨機變數的值是 963\n",
            "第 70 個隨機變數的值是 379\n",
            "第 71 個隨機變數的值是 661\n",
            "第 72 個隨機變數的值是 483\n",
            "第 73 個隨機變數的值是 422\n",
            "第 74 個隨機變數的值是 282\n",
            "第 75 個隨機變數的值是 312\n",
            "第 76 個隨機變數的值是 244\n",
            "第 77 個隨機變數的值是 667\n",
            "第 78 個隨機變數的值是 787\n",
            "第 79 個隨機變數的值是 147\n",
            "第 80 個隨機變數的值是 91\n",
            "第 81 個隨機變數的值是 100\n",
            "第 82 個隨機變數的值是 249\n",
            "第 83 個隨機變數的值是 507\n",
            "第 84 個隨機變數的值是 823\n",
            "第 85 個隨機變數的值是 472\n",
            "第 86 個隨機變數的值是 693\n",
            "第 87 個隨機變數的值是 763\n",
            "第 88 個隨機變數的值是 407\n",
            "第 89 個隨機變數的值是 952\n",
            "第 90 個隨機變數的值是 64\n",
            "第 91 個隨機變數的值是 199\n",
            "第 92 個隨機變數的值是 839\n",
            "第 93 個隨機變數的值是 942\n",
            "第 94 個隨機變數的值是 840\n",
            "第 95 個隨機變數的值是 887\n",
            "第 96 個隨機變數的值是 379\n",
            "第 97 個隨機變數的值是 593\n",
            "第 98 個隨機變數的值是 361\n",
            "第 99 個隨機變數的值是 783\n",
            "第 0 個數是 50\n",
            "第 1 個數是 100\n",
            "第 2 個數是 150\n",
            "第 3 個數是 200\n",
            "第 4 個數是 250\n",
            "第 5 個數是 300\n",
            "第 6 個數是 350\n",
            "第 7 個數是 400\n",
            "第 8 個數是 450\n",
            "第 9 個數是 500\n",
            "第 10 個數是 550\n",
            "第 11 個數是 600\n",
            "第 12 個數是 650\n",
            "第 13 個數是 700\n",
            "第 14 個數是 750\n",
            "第 15 個數是 800\n",
            "第 16 個數是 850\n",
            "第 17 個數是 900\n",
            "第 18 個數是 950\n",
            "第 19 個數是 1000\n",
            "第 20 個數是 1050\n",
            "第 21 個數是 1100\n",
            "第 22 個數是 1150\n",
            "第 23 個數是 1200\n",
            "第 24 個數是 1250\n",
            "第 25 個數是 1300\n",
            "第 26 個數是 1350\n",
            "第 27 個數是 1400\n",
            "第 28 個數是 1450\n",
            "第 29 個數是 1500\n",
            "第 30 個數是 1550\n",
            "第 31 個數是 1600\n",
            "第 32 個數是 1650\n",
            "第 33 個數是 1700\n",
            "第 34 個數是 1750\n",
            "第 35 個數是 1800\n",
            "第 36 個數是 1850\n",
            "第 37 個數是 1900\n",
            "第 38 個數是 1950\n",
            "第 39 個數是 2000\n",
            "第 40 個數是 2050\n",
            "第 41 個數是 2100\n",
            "第 42 個數是 2150\n",
            "第 43 個數是 2200\n",
            "第 44 個數是 2250\n",
            "第 45 個數是 2300\n",
            "第 46 個數是 2350\n",
            "第 47 個數是 2400\n",
            "第 48 個數是 2450\n",
            "第 49 個數是 2500\n",
            "第 50 個數是 2550\n",
            "第 51 個數是 2600\n",
            "第 52 個數是 2650\n",
            "第 53 個數是 2700\n",
            "第 54 個數是 2750\n",
            "第 55 個數是 2800\n",
            "第 56 個數是 2850\n",
            "第 57 個數是 2900\n",
            "第 58 個數是 2950\n",
            "第 59 個數是 3000\n",
            "第 60 個數是 3050\n",
            "第 61 個數是 3100\n",
            "第 62 個數是 3150\n",
            "第 63 個數是 3200\n",
            "第 64 個數是 3250\n",
            "第 65 個數是 3300\n",
            "第 66 個數是 3350\n",
            "第 67 個數是 3400\n",
            "第 68 個數是 3450\n",
            "第 69 個數是 3500\n",
            "第 70 個數是 3550\n",
            "第 71 個數是 3600\n",
            "第 72 個數是 3650\n",
            "第 73 個數是 3700\n",
            "第 74 個數是 3750\n",
            "第 75 個數是 3800\n",
            "第 76 個數是 3850\n",
            "第 77 個數是 3900\n",
            "第 78 個數是 3950\n",
            "第 79 個數是 4000\n",
            "第 80 個數是 4050\n",
            "第 81 個數是 4100\n",
            "第 82 個數是 4150\n",
            "第 83 個數是 4200\n",
            "第 84 個數是 4250\n",
            "第 85 個數是 4300\n",
            "第 86 個數是 4350\n",
            "第 87 個數是 4400\n",
            "第 88 個數是 4450\n",
            "第 89 個數是 4500\n",
            "第 90 個數是 4550\n",
            "第 91 個數是 4600\n",
            "第 92 個數是 4650\n",
            "第 93 個數是 4700\n",
            "第 94 個數是 4750\n",
            "第 95 個數是 4800\n",
            "第 96 個數是 4850\n",
            "第 97 個數是 4900\n",
            "第 98 個數是 4950\n",
            "第 99 個數是 5000\n"
          ],
          "name": "stdout"
        }
      ]
    },
    {
      "cell_type": "markdown",
      "metadata": {
        "id": "e2eGVFHE61eD",
        "colab_type": "text"
      },
      "source": [
        "#"
      ]
    },
    {
      "cell_type": "code",
      "metadata": {
        "id": "eLI3xHag62Uu",
        "colab_type": "code",
        "colab": {
          "base_uri": "https://localhost:8080/",
          "height": 136
        },
        "outputId": "b1220bae-ae34-433e-ec17-88b512bd9fbe"
      },
      "source": [
        "# 方法(一):for迴圈\n",
        "s = int(input('請輸入加總開始值?'))\n",
        "e = int(input('請輸入加總終止值?'))\n",
        "inc = int(input('請輸入遞增減值?'))\n",
        "sum = 0 #初始結果\n",
        "for i in range(s, e, inc): #判斷條件\n",
        "  sum = sum + i #更新結果\n",
        "  print('i為', i, '加總結果為', sum)"
      ],
      "execution_count": 29,
      "outputs": [
        {
          "output_type": "stream",
          "text": [
            "請輸入加總開始值?3\n",
            "請輸入加總終止值?13\n",
            "請輸入遞增減值?3\n",
            "i為 3 加總結果為 3\n",
            "i為 6 加總結果為 9\n",
            "i為 9 加總結果為 18\n",
            "i為 12 加總結果為 30\n"
          ],
          "name": "stdout"
        }
      ]
    }
  ]
}