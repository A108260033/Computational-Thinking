{
  "nbformat": 4,
  "nbformat_minor": 0,
  "metadata": {
    "colab": {
      "name": "Week5_A108260033_陳建宇-熟能生巧.ipynb",
      "provenance": [],
      "collapsed_sections": [],
      "include_colab_link": true
    },
    "kernelspec": {
      "name": "python3",
      "display_name": "Python 3"
    }
  },
  "cells": [
    {
      "cell_type": "markdown",
      "metadata": {
        "id": "view-in-github",
        "colab_type": "text"
      },
      "source": [
        "<a href=\"https://colab.research.google.com/github/CYya900117/Computational-Thinking/blob/master/Week5_A108260033_%E9%99%B3%E5%BB%BA%E5%AE%87_%E7%86%9F%E8%83%BD%E7%94%9F%E5%B7%A7.ipynb\" target=\"_parent\"><img src=\"https://colab.research.google.com/assets/colab-badge.svg\" alt=\"Open In Colab\"/></a>"
      ]
    },
    {
      "cell_type": "code",
      "metadata": {
        "id": "9hGoj9hOOur8",
        "colab_type": "code",
        "colab": {}
      },
      "source": [
        "# 1. 變數初始化為分鐘數\n",
        "minutes_to_convert = 123"
      ],
      "execution_count": 0,
      "outputs": []
    },
    {
      "cell_type": "code",
      "metadata": {
        "id": "wUQ01-s2Ov__",
        "colab_type": "code",
        "colab": {}
      },
      "source": [
        "# 2. 變數轉換為小時數\n",
        "hours_decimal = minutes_to_convert/60 #數學運算除以60\n",
        "hours_part = int(hours_decimal) #將浮點數結果轉換變數型別為整數"
      ],
      "execution_count": 0,
      "outputs": []
    },
    {
      "cell_type": "code",
      "metadata": {
        "id": "OnxmOrkMOyXF",
        "colab_type": "code",
        "colab": {}
      },
      "source": [
        "# 3. 取得轉換後的分鐘數\n",
        "minutes_decimal = hours_decimal-hours_part #浮點數減整數取得小數\n",
        "minutes_part = round(minutes_decimal*60) #數學運算乘60得分鐘數,在此要四捨五入才行"
      ],
      "execution_count": 0,
      "outputs": []
    },
    {
      "cell_type": "code",
      "metadata": {
        "id": "65BRmrevO4ni",
        "colab_type": "code",
        "colab": {
          "base_uri": "https://localhost:8080/",
          "height": 85
        },
        "outputId": "8daf9c19-2fee-47f5-872f-5ff159878913"
      },
      "source": [
        "# 4. 顯示結果\n",
        "print(\"Hours\")\n",
        "print(hours_part)\n",
        "print(\"Minutes\")\n",
        "print(minutes_part)"
      ],
      "execution_count": 7,
      "outputs": [
        {
          "output_type": "stream",
          "text": [
            "Hours\n",
            "2\n",
            "Minutes\n",
            "3\n"
          ],
          "name": "stdout"
        }
      ]
    },
    {
      "cell_type": "code",
      "metadata": {
        "id": "QwWNQusQRIE0",
        "colab_type": "code",
        "colab": {}
      },
      "source": [
        "# initializing\n",
        "minutes_to_convert = 123"
      ],
      "execution_count": 0,
      "outputs": []
    },
    {
      "cell_type": "code",
      "metadata": {
        "id": "qQf7uJv4RKdb",
        "colab_type": "code",
        "colab": {}
      },
      "source": [
        "# getting the whole number of hours\n",
        "hours_decimal = minutes_to_convert/60\n",
        "hours_part = int(hours_decimal)"
      ],
      "execution_count": 0,
      "outputs": []
    },
    {
      "cell_type": "code",
      "metadata": {
        "id": "0Btumqs2RM3K",
        "colab_type": "code",
        "colab": {}
      },
      "source": [
        "#getting the whole number of minutes\n",
        "#下列餘數運算可以取得轉換後的分鐘數\n",
        "minutes_part = minutes_to_convert%60"
      ],
      "execution_count": 0,
      "outputs": []
    },
    {
      "cell_type": "code",
      "metadata": {
        "id": "B06nmVdSRO0K",
        "colab_type": "code",
        "colab": {
          "base_uri": "https://localhost:8080/",
          "height": 85
        },
        "outputId": "a30cfb3d-3ad1-45d0-e700-45a203c27474"
      },
      "source": [
        "# printing the result\n",
        "print(\"Hours\")\n",
        "print(hours_part)\n",
        "print(\"Minutes\")\n",
        "print(minutes_part)"
      ],
      "execution_count": 11,
      "outputs": [
        {
          "output_type": "stream",
          "text": [
            "Hours\n",
            "2\n",
            "Minutes\n",
            "3\n"
          ],
          "name": "stdout"
        }
      ]
    },
    {
      "cell_type": "code",
      "metadata": {
        "id": "aU-VSjE3TwE_",
        "colab_type": "code",
        "colab": {
          "base_uri": "https://localhost:8080/",
          "height": 119
        },
        "outputId": "37a9556b-b357-4739-a89c-fc8fd3da2d02"
      },
      "source": [
        "####1-1輸入與輸出範例 — 基本資料調查\n",
        "### 螢幕輸出「請問貴姓大名?」,等待使用者輸入姓名,顯示輸入的姓名在螢幕上。\n",
        "### 螢幕輸出「請問年紀?」,等待使用者輸入年紀,顯示輸入的年紀在螢幕上。\n",
        "### 螢幕輸出「請問體重?」,等待使用者輸入體重,顯示輸入的體重在螢幕上。\n",
        "name = input('請問貴姓大名?')\n",
        "print('你好,', name)\n",
        "y = int(input('請問年紀?'))\n",
        "print('原來你', y,'歲')\n",
        "w = float(input('請問體重?'))\n",
        "print('體重為', w)"
      ],
      "execution_count": 12,
      "outputs": [
        {
          "output_type": "stream",
          "text": [
            "請問貴姓大名?陳建宇\n",
            "你好, 陳建宇\n",
            "請問年紀?18\n",
            "原來你 18 歲\n",
            "請問體重?69\n",
            "體重為 69.0\n"
          ],
          "name": "stdout"
        }
      ]
    },
    {
      "cell_type": "code",
      "metadata": {
        "id": "2mA0m1INT8ZZ",
        "colab_type": "code",
        "colab": {
          "base_uri": "https://localhost:8080/",
          "height": 85
        },
        "outputId": "01edc0b7-4d8e-41e7-efa0-c9198017b21b"
      },
      "source": [
        "####2-5-1服裝訂購系統\n",
        "上衣 = int(input('請輸入上衣數量?'))\n",
        "褲子 = int(input('請輸入褲子數量?'))\n",
        "背心 = int(input('請輸入背心數量?'))\n",
        "總金額 = 上衣*300 + 褲子*350 + 背心*400\n",
        "print('訂購服裝的總金額為', 總金額)"
      ],
      "execution_count": 13,
      "outputs": [
        {
          "output_type": "stream",
          "text": [
            "請輸入上衣數量?10\n",
            "請輸入褲子數量?20\n",
            "請輸入背心數量?30\n",
            "訂購服裝的總金額為 22000\n"
          ],
          "name": "stdout"
        }
      ]
    },
    {
      "cell_type": "code",
      "metadata": {
        "id": "dl5DvbrTUHVj",
        "colab_type": "code",
        "colab": {
          "base_uri": "https://localhost:8080/",
          "height": 51
        },
        "outputId": "b716fee2-44e1-422a-cfa8-3ce3ac6f1277"
      },
      "source": [
        "####2-5-2計算圓面積與圓周長\n",
        "半徑 = float(input('請輸入半徑?'))\n",
        "PI = 3.14159\n",
        "圓周長 = 2 * PI * 半徑\n",
        "圓面積 = 半徑 * 半徑 * PI\n",
        "print('圓周長為', 圓周長, '圓面積為', 圓面積)"
      ],
      "execution_count": 14,
      "outputs": [
        {
          "output_type": "stream",
          "text": [
            "請輸入半徑?90\n",
            "圓周長為 565.4861999999999 圓面積為 25446.879\n"
          ],
          "name": "stdout"
        }
      ]
    },
    {
      "cell_type": "code",
      "metadata": {
        "id": "wNmUJpbxUN25",
        "colab_type": "code",
        "colab": {
          "base_uri": "https://localhost:8080/",
          "height": 51
        },
        "outputId": "0d3128b5-57bf-443e-dae1-c118bafacdd7"
      },
      "source": [
        "####2-5-3攝氏轉華氏\n",
        "c = float(input('請輸入攝氏溫度?'))\n",
        "f = c * 9 / 5 +32\n",
        "print('華氏溫度為', f)"
      ],
      "execution_count": 16,
      "outputs": [
        {
          "output_type": "stream",
          "text": [
            "請輸入攝氏溫度?24\n",
            "華氏溫度為 75.2\n"
          ],
          "name": "stdout"
        }
      ]
    },
    {
      "cell_type": "code",
      "metadata": {
        "id": "mW78eQV6UXyM",
        "colab_type": "code",
        "colab": {
          "base_uri": "https://localhost:8080/",
          "height": 102
        },
        "outputId": "6e2794ce-7aae-4da1-f2bb-422301366f8f"
      },
      "source": [
        "####2-5-4複利計算\n",
        "money = int(input('請輸入本金?'))\n",
        "interest = float(input('請輸入年利率(%)?'))\n",
        "y1 = money * (1 + interest/100)\n",
        "y2 = money * ((1 + interest/100) ** 2)\n",
        "y3 = money * ((1 + interest/100) ** 3)\n",
        "print('第一年本利和為', y1)\n",
        "print('第二年本利和為', y2)\n",
        "print('第三年本利和為', y3)"
      ],
      "execution_count": 17,
      "outputs": [
        {
          "output_type": "stream",
          "text": [
            "請輸入本金?1000\n",
            "請輸入年利率(%)?1.05\n",
            "第一年本利和為 1010.5\n",
            "第二年本利和為 1021.11025\n",
            "第三年本利和為 1031.8319076249998\n"
          ],
          "name": "stdout"
        }
      ]
    },
    {
      "cell_type": "code",
      "metadata": {
        "id": "jBvJqAtLWA3r",
        "colab_type": "code",
        "colab": {}
      },
      "source": [
        "####成果檢核"
      ],
      "execution_count": 0,
      "outputs": []
    },
    {
      "cell_type": "code",
      "metadata": {
        "id": "ewLQXHpTWDXa",
        "colab_type": "code",
        "colab": {
          "base_uri": "https://localhost:8080/",
          "height": 85
        },
        "outputId": "ab9795d5-6274-4fd7-81af-33d4beea4a5b"
      },
      "source": [
        "###1.求三數總和與平均\n",
        "Text1 = int(input('請輸入第一次期中考成績?'))\n",
        "Text2 = int(input('請輸入第二次期中考成績?'))\n",
        "Text3 = int(input('請輸入期末考成績?'))\n",
        "TextALL = Text1+Text2+Text3\n",
        "Text = (TextALL/3)\n",
        "print(\"總分為\",TextALL,\"平均為\",Text)"
      ],
      "execution_count": 31,
      "outputs": [
        {
          "output_type": "stream",
          "text": [
            "請輸入第一次期中考成績?75\n",
            "請輸入第二次期中考成績?80\n",
            "請輸入期末考成績?65\n",
            "總分為 220 平均為 73.33333333333333\n"
          ],
          "name": "stdout"
        }
      ]
    },
    {
      "cell_type": "code",
      "metadata": {
        "id": "KxCKDl7-WK8P",
        "colab_type": "code",
        "colab": {
          "base_uri": "https://localhost:8080/",
          "height": 68
        },
        "outputId": "d4ad2e2a-f657-4bb0-dadf-f0405149a5f3"
      },
      "source": [
        "###2.英制轉公制\n",
        "c=float(input('請輸入幾尺?'))\n",
        "b=float(input('請輸入幾吋'))\n",
        "f=(c*12+b)*2.54\n",
        "print('轉換成',f)"
      ],
      "execution_count": 34,
      "outputs": [
        {
          "output_type": "stream",
          "text": [
            "請輸入幾尺?5\n",
            "請輸入幾吋8\n",
            "轉換成 172.72\n"
          ],
          "name": "stdout"
        }
      ]
    },
    {
      "cell_type": "code",
      "metadata": {
        "id": "vHEbcgE8WNsc",
        "colab_type": "code",
        "colab": {
          "base_uri": "https://localhost:8080/",
          "height": 51
        },
        "outputId": "25c74413-91c3-4672-b96b-592983919625"
      },
      "source": [
        "###3.分組報告\n",
        "座號 = int(input('請輸入座號?'))\n",
        "a = int(座號/5)\n",
        "組別 = a+1\n",
        "print('組別為',組別)"
      ],
      "execution_count": 39,
      "outputs": [
        {
          "output_type": "stream",
          "text": [
            "請輸入座號?19\n",
            "組別為 4\n"
          ],
          "name": "stdout"
        }
      ]
    },
    {
      "cell_type": "code",
      "metadata": {
        "id": "r_HYNnZUWRfD",
        "colab_type": "code",
        "colab": {
          "base_uri": "https://localhost:8080/",
          "height": 51
        },
        "outputId": "647d2821-946a-471b-d810-0eed91622151"
      },
      "source": [
        "###4.賣場買飲料\n",
        "飲料數量 = int(input('輸入購買飲料的罐數?'))\n",
        "飲料一打 = int(飲料數量/12)\n",
        "飲料個數 = int(飲料數量-飲料一打*12)\n",
        "一打價格 = 飲料一打*200\n",
        "個數價格 = 飲料個數*20\n",
        "總價 = 一打價格 + 個數價格\n",
        "print(\"需花費\",總價)"
      ],
      "execution_count": 33,
      "outputs": [
        {
          "output_type": "stream",
          "text": [
            "輸入購買飲料的罐數?30\n",
            "需花費 520\n"
          ],
          "name": "stdout"
        }
      ]
    },
    {
      "cell_type": "code",
      "metadata": {
        "id": "jBM_YxiNWWfp",
        "colab_type": "code",
        "colab": {}
      },
      "source": [
        "###5.電腦中資料儲存單位計算"
      ],
      "execution_count": 0,
      "outputs": []
    }
  ]
}