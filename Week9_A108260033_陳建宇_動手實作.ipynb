{
  "nbformat": 4,
  "nbformat_minor": 0,
  "metadata": {
    "colab": {
      "name": "Week9-A108260033-陳建宇-動手實作.ipynb",
      "provenance": [],
      "collapsed_sections": [],
      "include_colab_link": true
    },
    "kernelspec": {
      "name": "python3",
      "display_name": "Python 3"
    }
  },
  "cells": [
    {
      "cell_type": "markdown",
      "metadata": {
        "id": "view-in-github",
        "colab_type": "text"
      },
      "source": [
        "<a href=\"https://colab.research.google.com/github/CYya900117/Computational-Thinking/blob/master/Week9_A108260033_%E9%99%B3%E5%BB%BA%E5%AE%87_%E5%8B%95%E6%89%8B%E5%AF%A6%E4%BD%9C.ipynb\" target=\"_parent\"><img src=\"https://colab.research.google.com/assets/colab-badge.svg\" alt=\"Open In Colab\"/></a>"
      ]
    },
    {
      "cell_type": "code",
      "metadata": {
        "id": "-yRYj5MIgrGI",
        "colab_type": "code",
        "colab": {
          "base_uri": "https://localhost:8080/",
          "height": 119
        },
        "outputId": "ca5e19cf-6a23-4220-c4f4-f59ae0cf2e92"
      },
      "source": [
        "#布林（⼀）：比較運算⼦\n",
        "## 比較運算⼦⽤於比較兩數的⼤於、⼩於和等於關係。\n",
        "\n",
        "print(8 == 7) # 判斷 8 是否等於 7，請注意不要混淆＝和==。\n",
        "print(8 != 7) # 判斷 8 是否不等於 7\n",
        "print(8 > 7) # 判斷 8 是否⼤於 7\n",
        "print(8 >= 7) # 判斷 8 是否⼤於等於 7\n",
        "print(8 < 7) # 判斷 8 是否⼩於 7\n",
        "print(8 <= 7) # 判斷 8 是否⼩於等於 7"
      ],
      "execution_count": 2,
      "outputs": [
        {
          "output_type": "stream",
          "text": [
            "False\n",
            "True\n",
            "True\n",
            "True\n",
            "False\n",
            "False\n"
          ],
          "name": "stdout"
        }
      ]
    },
    {
      "cell_type": "code",
      "metadata": {
        "id": "UKQtQbfjhBS4",
        "colab_type": "code",
        "colab": {
          "base_uri": "https://localhost:8080/",
          "height": 119
        },
        "outputId": "9ac38ed0-8f38-4901-b30e-8b71e2dcabdd"
      },
      "source": [
        "#布林（⼆）：邏輯運算⼦\n",
        "## 邏輯運算⼦有三種運算⼦:且(and)、或(or)、非(not)。\n",
        "\n",
        "# 例⼦1\n",
        "print(True and False) # 判斷 True 與 False 的交集\n",
        "print(True or False) # 判斷 True 與 False 的聯集\n",
        "print(not(8 > 7)) # 反轉 8 是否⼤於 7 的判斷\n",
        "\n",
        "#例⼦2\n",
        "X = 70\n",
        "print((X>60) and (X<80))\n",
        "print((X>60) or (X<80))\n",
        "print(not(X>60))"
      ],
      "execution_count": 3,
      "outputs": [
        {
          "output_type": "stream",
          "text": [
            "False\n",
            "True\n",
            "False\n",
            "True\n",
            "True\n",
            "False\n"
          ],
          "name": "stdout"
        }
      ]
    },
    {
      "cell_type": "code",
      "metadata": {
        "id": "2aE15-hahDvW",
        "colab_type": "code",
        "colab": {
          "base_uri": "https://localhost:8080/",
          "height": 170
        },
        "outputId": "cc18ce9c-8f6b-4a94-fe5b-52560bab7a22"
      },
      "source": [
        "#布林（三）：成員與⾝份算⼦\n",
        "## [x in y]判斷x是否為y其中⼀個元素\n",
        "## [x is y]判斷x與y的id是否相同（在此不是相等==的判斷）\n",
        "\n",
        "# 例⼦1\n",
        "print(8 is 7) # 判斷 8 與 7 是否為同樣的類別或值\n",
        "print(8 is not 7) # 判斷 8 與 7 是否為相異的類別或值\n",
        "print(\"H\" in \"Hello world\") # 判斷 H 是否存在於 Hello world 之中\n",
        "print(\"H\" not in \"Hello world\") # 判斷 H 是否不存在於 Hello world 之中\n",
        "\n",
        "# 例⼦2\n",
        "x = 1\n",
        "y = [1,2,3]\n",
        "print(x in y)\n",
        "print( x not in y)\n",
        "\n",
        "x = [1,2,3]\n",
        "y = [1,2,3]\n",
        "print(id(x), id(y)) #兩個變數id不同\n",
        "print(x is y)\n",
        "print(x is not y)"
      ],
      "execution_count": 4,
      "outputs": [
        {
          "output_type": "stream",
          "text": [
            "False\n",
            "True\n",
            "True\n",
            "False\n",
            "True\n",
            "False\n",
            "140056836422792 140056836877832\n",
            "False\n",
            "True\n"
          ],
          "name": "stdout"
        }
      ]
    },
    {
      "cell_type": "code",
      "metadata": {
        "id": "D7_MyeEEhMWh",
        "colab_type": "code",
        "colab": {
          "base_uri": "https://localhost:8080/",
          "height": 51
        },
        "outputId": "917d574a-2746-458a-f9ca-2cfa0aa45d0b"
      },
      "source": [
        "#1.單向選擇結構\n",
        "\n",
        "score = int(input('請輸入⼀個成績？'))\n",
        "if score >= 60:print('很好，請繼續保持下去')"
      ],
      "execution_count": 6,
      "outputs": [
        {
          "output_type": "stream",
          "text": [
            "請輸入⼀個成績？60\n",
            "很好，請繼續保持下去\n"
          ],
          "name": "stdout"
        }
      ]
    },
    {
      "cell_type": "code",
      "metadata": {
        "id": "Xq5ekCtFhdFZ",
        "colab_type": "code",
        "colab": {
          "base_uri": "https://localhost:8080/",
          "height": 51
        },
        "outputId": "3d0ef5ca-69b0-44c3-da12-e9e6a14eafa6"
      },
      "source": [
        "#2.雙向選擇結構\n",
        "\n",
        "score = int(input('請輸入⼀個成績？'))\n",
        "if score >= 60:print('有及格ㄡ～')\n",
        "else:print('不及格ㄟ！')"
      ],
      "execution_count": 7,
      "outputs": [
        {
          "output_type": "stream",
          "text": [
            "請輸入⼀個成績？50\n",
            "不及格ㄟ！\n"
          ],
          "name": "stdout"
        }
      ]
    },
    {
      "cell_type": "code",
      "metadata": {
        "id": "_iVPdEV3hki2",
        "colab_type": "code",
        "colab": {
          "base_uri": "https://localhost:8080/",
          "height": 51
        },
        "outputId": "0bb74c04-1ec6-40ae-8396-379256c68604"
      },
      "source": [
        "#3.多向選擇結構\n",
        "\n",
        "score = int(input('請輸入⼀個成績？'))\n",
        "if score >= 80:print('非常好')\n",
        "elif score >= 60:print('不錯喔')\n",
        "else:print('要加油')"
      ],
      "execution_count": 8,
      "outputs": [
        {
          "output_type": "stream",
          "text": [
            "請輸入⼀個成績？66\n",
            "不錯喔\n"
          ],
          "name": "stdout"
        }
      ]
    },
    {
      "cell_type": "code",
      "metadata": {
        "id": "JpjcTJuMhuLp",
        "colab_type": "code",
        "colab": {
          "base_uri": "https://localhost:8080/",
          "height": 68
        },
        "outputId": "ec6b67fe-b520-45f3-e539-353ab47903b7"
      },
      "source": [
        "#4.巢狀選擇結構\n",
        "\n",
        "x = float(input('請輸入該點的X座標？')) #Input\n",
        "y = float(input('請輸入該點的Y座標？'))\n",
        "if (x > 0):\n",
        "  if (y > 0):print('該點在第⼀象限') #X⼤於0,Y⼤於0\n",
        "  else:\n",
        "    print('該點在第四象限') #X⼤於0,Y⼩於0\n",
        "else:\n",
        "  if (y > 0):print('該點在第⼆象限') #X⼩於0,Y⼤於0\n",
        "  else:print('該點在第三象限') #X⼩於0,Y⼩於0"
      ],
      "execution_count": 14,
      "outputs": [
        {
          "output_type": "stream",
          "text": [
            "請輸入該點的X座標？1\n",
            "請輸入該點的Y座標？1\n",
            "該點在第⼀象限\n"
          ],
          "name": "stdout"
        }
      ]
    },
    {
      "cell_type": "code",
      "metadata": {
        "id": "9Yy1yir8kJoG",
        "colab_type": "code",
        "colab": {
          "base_uri": "https://localhost:8080/",
          "height": 51
        },
        "outputId": "76cdac12-7c2b-42ef-92c1-c04be7c2651c"
      },
      "source": [
        "#4.範例練習\n",
        "#4-2-1.滿2000打九折\n",
        "cost = int(input('請輸入購買⾦額？'))\n",
        "if cost >= 2000:print(cost * 0.9)\n",
        "else:print(cost)"
      ],
      "execution_count": 25,
      "outputs": [
        {
          "output_type": "stream",
          "text": [
            "請輸入購買⾦額？2000\n",
            "1800.0\n"
          ],
          "name": "stdout"
        }
      ]
    },
    {
      "cell_type": "code",
      "metadata": {
        "id": "EwELAmJOkrlX",
        "colab_type": "code",
        "colab": {
          "base_uri": "https://localhost:8080/",
          "height": 51
        },
        "outputId": "95aacfee-1433-4004-fe7a-86c4226a012f"
      },
      "source": [
        "#4-2-2.判斷奇偶數\n",
        "# 版本（⼀）\n",
        "num = int(input('請輸入⼀個整數？'))\n",
        "if num % 2 == 0:print(num, '為偶數') #餘數為0是偶數\n",
        "else:print(num, '為奇數')"
      ],
      "execution_count": 29,
      "outputs": [
        {
          "output_type": "stream",
          "text": [
            "請輸入⼀個整數？13\n",
            "13 為奇數\n"
          ],
          "name": "stdout"
        }
      ]
    },
    {
      "cell_type": "code",
      "metadata": {
        "id": "D2tq7-5hk6cF",
        "colab_type": "code",
        "colab": {
          "base_uri": "https://localhost:8080/",
          "height": 51
        },
        "outputId": "2ddc20bb-d330-47b9-c9ee-61a611d98e4a"
      },
      "source": [
        "# 版本（⼆）\n",
        "num = int(input('請輸入⼀個整數？'))\n",
        "if num % 2 == 1:print(num, '為奇數') #餘數為1是奇數\n",
        "else:print(num, '為偶數')"
      ],
      "execution_count": 30,
      "outputs": [
        {
          "output_type": "stream",
          "text": [
            "請輸入⼀個整數？13\n",
            "13 為奇數\n"
          ],
          "name": "stdout"
        }
      ]
    },
    {
      "cell_type": "code",
      "metadata": {
        "id": "mwv9uLUdlAZk",
        "colab_type": "code",
        "colab": {
          "base_uri": "https://localhost:8080/",
          "height": 85
        },
        "outputId": "755466ed-a9b5-4a7f-8050-82bcbcf7772a"
      },
      "source": [
        "#4-2-3.三角形判斷\n",
        "a = int(input('請輸入三⾓形邊長a長度為？'))\n",
        "b = int(input('請輸入三⾓形邊長b長度為？'))\n",
        "c = int(input('請輸入三⾓形邊長c長度為？'))\n",
        "if (a<b+c)and(b<a+c)and(c<a+b):print('可構成三⾓形') #任兩邊相加是否⼤於第三邊\n",
        "else:print('無法構成三⾓形')"
      ],
      "execution_count": 32,
      "outputs": [
        {
          "output_type": "stream",
          "text": [
            "請輸入三⾓形邊長a長度為？11\n",
            "請輸入三⾓形邊長b長度為？12\n",
            "請輸入三⾓形邊長c長度為？13\n",
            "可構成三⾓形\n"
          ],
          "name": "stdout"
        }
      ]
    },
    {
      "cell_type": "code",
      "metadata": {
        "id": "0SinEtk6mN9W",
        "colab_type": "code",
        "colab": {
          "base_uri": "https://localhost:8080/",
          "height": 85
        },
        "outputId": "59e94d44-2c2c-4a3a-f71d-00130c55ea87"
      },
      "source": [
        "#4-3-3.BMI計算\n",
        "#輸入⾝⾼體重資訊，計算BMI。\n",
        "w = float(input('請輸入體重(KG)？')) #Input\n",
        "h = float(input('請輸入⾝⾼(M)？'))\n",
        "bmi = w/(h*h) #Process\n",
        "print('BMI為', bmi) #Output\n",
        "# BMI分類\n",
        "if bmi < 18:print('體重過輕')\n",
        "elif bmi < 24:print('體重正常')\n",
        "elif bmi < 27:print('體重過重')\n",
        "else:print('體重肥胖')"
      ],
      "execution_count": 33,
      "outputs": [
        {
          "output_type": "stream",
          "text": [
            "請輸入體重(KG)？75\n",
            "請輸入⾝⾼(M)？1.7\n",
            "BMI為 25.95155709342561\n",
            "體重過重\n"
          ],
          "name": "stdout"
        }
      ]
    }
  ]
}